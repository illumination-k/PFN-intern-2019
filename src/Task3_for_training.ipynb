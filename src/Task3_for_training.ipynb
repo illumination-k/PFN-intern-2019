{
 "cells": [
  {
   "cell_type": "code",
   "execution_count": 9,
   "metadata": {},
   "outputs": [],
   "source": [
    "import numpy as np"
   ]
  },
  {
   "cell_type": "code",
   "execution_count": 10,
   "metadata": {},
   "outputs": [],
   "source": [
    "#### 学習の際に過不足なくepochを作れそうかの確認。あとはこれにaccuracy, lossを記録とindex番号ごとの学習を加えればtrainingできる"
   ]
  },
  {
   "cell_type": "code",
   "execution_count": 11,
   "metadata": {},
   "outputs": [
    {
     "name": "stdout",
     "output_type": "stream",
     "text": [
      "---------- 0 epoch start! ----------\n",
      "[       0        1        2 10000000 10000000        5        6        7\n",
      "        8        9]\n",
      "[       0 10000000        2 10000000 10000000 10000000        6        7\n",
      "        8        9]\n",
      "[       0 10000000        2 10000000 10000000 10000000        6        7\n",
      " 10000000 10000000]\n",
      "[       0 10000000        2 10000000 10000000 10000000 10000000 10000000\n",
      " 10000000 10000000]\n",
      "[10000000 10000000 10000000 10000000 10000000 10000000 10000000 10000000\n",
      " 10000000 10000000]\n",
      "---------- 0 epoch finish! ----------\n",
      "\n",
      "---------- 1 epoch start! ----------\n",
      "[       0 10000000        2        3 10000000        5        6        7\n",
      "        8        9]\n",
      "[       0 10000000 10000000 10000000 10000000        5        6        7\n",
      "        8        9]\n",
      "[       0 10000000 10000000 10000000 10000000        5 10000000        7\n",
      " 10000000        9]\n",
      "[       0 10000000 10000000 10000000 10000000        5 10000000 10000000\n",
      " 10000000 10000000]\n",
      "[10000000 10000000 10000000 10000000 10000000 10000000 10000000 10000000\n",
      " 10000000 10000000]\n",
      "---------- 1 epoch finish! ----------\n",
      "\n",
      "---------- 2 epoch start! ----------\n",
      "[       0        1        2 10000000        4        5        6 10000000\n",
      "        8        9]\n",
      "[       0 10000000 10000000 10000000        4        5        6 10000000\n",
      "        8        9]\n",
      "[       0 10000000 10000000 10000000        4        5 10000000 10000000\n",
      " 10000000        9]\n",
      "[       0 10000000 10000000 10000000        4 10000000 10000000 10000000\n",
      " 10000000 10000000]\n",
      "[10000000 10000000 10000000 10000000 10000000 10000000 10000000 10000000\n",
      " 10000000 10000000]\n",
      "---------- 2 epoch finish! ----------\n",
      "\n"
     ]
    }
   ],
   "source": [
    "INF=1e7\n",
    "\n",
    "#ハイパーパラメーター\n",
    "batch_size=2\n",
    "epoch_num=3\n",
    "\n",
    "#学習\n",
    "for i in range(epoch_num):\n",
    "    print(\"-\"*10, i, \"epoch start!\", \"-\"*10)\n",
    "    train_range=np.arange(10)\n",
    "    while(True): #epoch開始\n",
    "        if np.all(train_range==INF): #epoch終了条件\n",
    "            print(\"-\"*10,i,\"epoch finish!\",\"-\"*10)\n",
    "            print()\n",
    "            break\n",
    "        \n",
    "        #indexをINTでないtrain_range内の要素からbatch size分選択し、選択したindexはINFにする。全ての要素がINFになったらepoch終了\n",
    "        indexs=list(np.random.choice(train_range[train_range!=INF], batch_size, replace=False))\n",
    "        train_range[indexs]=INF\n",
    "        print(train_range)"
   ]
  },
  {
   "cell_type": "code",
   "execution_count": null,
   "metadata": {},
   "outputs": [],
   "source": []
  }
 ],
 "metadata": {
  "kernelspec": {
   "display_name": "Python 3",
   "language": "python",
   "name": "python3"
  },
  "language_info": {
   "codemirror_mode": {
    "name": "ipython",
    "version": 3
   },
   "file_extension": ".py",
   "mimetype": "text/x-python",
   "name": "python",
   "nbconvert_exporter": "python",
   "pygments_lexer": "ipython3",
   "version": "3.5.6"
  }
 },
 "nbformat": 4,
 "nbformat_minor": 2
}
