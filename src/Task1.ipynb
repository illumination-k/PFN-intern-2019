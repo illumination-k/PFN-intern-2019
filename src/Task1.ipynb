{
 "cells": [
  {
   "cell_type": "code",
   "execution_count": 1,
   "metadata": {},
   "outputs": [],
   "source": [
    "import numpy as np\n",
    "import function as F"
   ]
  },
  {
   "cell_type": "markdown",
   "metadata": {},
   "source": [
    "# 初期条件の設定"
   ]
  },
  {
   "cell_type": "code",
   "execution_count": 2,
   "metadata": {},
   "outputs": [],
   "source": [
    "D=4\n",
    "adj=np.array([[0,1,0,0],[1,0,1,1],[0,1,0,1],[0,1,1,0]])\n",
    "x_0=np.zeros((D,len(adj)))\n",
    "x_0[0]=1\n",
    "W=np.array([[2,0,0,0],[-1,0,0,0],[0,1,0,0],[1,0,0,0]])\n",
    "A=np.array([1,1,1,1])\n",
    "b=np.array([1])"
   ]
  },
  {
   "cell_type": "code",
   "execution_count": 3,
   "metadata": {},
   "outputs": [
    {
     "data": {
      "text/plain": [
       "array([[1., 1., 1., 1.],\n",
       "       [0., 0., 0., 0.],\n",
       "       [0., 0., 0., 0.],\n",
       "       [0., 0., 0., 0.]])"
      ]
     },
     "execution_count": 3,
     "metadata": {},
     "output_type": "execute_result"
    }
   ],
   "source": [
    "x_0"
   ]
  },
  {
   "cell_type": "markdown",
   "metadata": {},
   "source": [
    "#### 集約-1"
   ]
  },
  {
   "cell_type": "code",
   "execution_count": 4,
   "metadata": {},
   "outputs": [
    {
     "name": "stdout",
     "output_type": "stream",
     "text": [
      "[[1. 3. 2. 2.]\n",
      " [0. 0. 0. 0.]\n",
      " [0. 0. 0. 0.]\n",
      " [0. 0. 0. 0.]]\n"
     ]
    }
   ],
   "source": [
    "a_0=np.zeros_like(x_0.T)\n",
    "\n",
    "for i in range(len(adj)):\n",
    "    a_0[i]=x_0.T[adj[i]==1].sum(axis=0)\n",
    "    \n",
    "print(a_0.T)"
   ]
  },
  {
   "cell_type": "markdown",
   "metadata": {},
   "source": [
    "#### 集約-2\n",
    "function.py内でrelu関数を定義している"
   ]
  },
  {
   "cell_type": "code",
   "execution_count": 5,
   "metadata": {},
   "outputs": [
    {
     "name": "stdout",
     "output_type": "stream",
     "text": [
      "[[2. 6. 4. 4.]\n",
      " [0. 0. 0. 0.]\n",
      " [0. 0. 0. 0.]\n",
      " [1. 3. 2. 2.]]\n"
     ]
    }
   ],
   "source": [
    "x_1=F.relu(W@a_0.T)\n",
    "print(x_1)"
   ]
  },
  {
   "cell_type": "markdown",
   "metadata": {},
   "source": [
    "### ２回目の集約"
   ]
  },
  {
   "cell_type": "code",
   "execution_count": 6,
   "metadata": {},
   "outputs": [
    {
     "name": "stdout",
     "output_type": "stream",
     "text": [
      "[[ 6. 10. 10. 10.]\n",
      " [ 0.  0.  0.  0.]\n",
      " [ 0.  0.  0.  0.]\n",
      " [ 3.  5.  5.  5.]]\n"
     ]
    }
   ],
   "source": [
    "a_1=np.zeros_like(x_1.T)\n",
    "\n",
    "for i in range(len(adj)):\n",
    "    a_1[i]=x_1.T[adj[i]==1].sum(axis=0)\n",
    "    \n",
    "print(a_1.T)"
   ]
  },
  {
   "cell_type": "code",
   "execution_count": 7,
   "metadata": {},
   "outputs": [
    {
     "name": "stdout",
     "output_type": "stream",
     "text": [
      "[[12. 20. 20. 20.]\n",
      " [ 0.  0.  0.  0.]\n",
      " [ 0.  0.  0.  0.]\n",
      " [ 6. 10. 10. 10.]]\n"
     ]
    }
   ],
   "source": [
    "x_2=F.relu(W@a_1.T)\n",
    "print(x_2)"
   ]
  },
  {
   "cell_type": "markdown",
   "metadata": {},
   "source": [
    "### h_Gを求める"
   ]
  },
  {
   "cell_type": "code",
   "execution_count": 8,
   "metadata": {},
   "outputs": [],
   "source": [
    "h_G=np.sum(x_2, axis=1)"
   ]
  },
  {
   "cell_type": "code",
   "execution_count": 9,
   "metadata": {},
   "outputs": [
    {
     "name": "stdout",
     "output_type": "stream",
     "text": [
      "[72.  0.  0. 36.]\n"
     ]
    }
   ],
   "source": [
    "print(h_G)"
   ]
  },
  {
   "cell_type": "markdown",
   "metadata": {},
   "source": [
    "### 重み付き和の算出"
   ]
  },
  {
   "cell_type": "code",
   "execution_count": 10,
   "metadata": {},
   "outputs": [],
   "source": [
    "affine=A@h_G+b"
   ]
  },
  {
   "cell_type": "code",
   "execution_count": 11,
   "metadata": {},
   "outputs": [
    {
     "name": "stdout",
     "output_type": "stream",
     "text": [
      "[109.]\n"
     ]
    }
   ],
   "source": [
    "print(affine)"
   ]
  },
  {
   "cell_type": "markdown",
   "metadata": {},
   "source": [
    "## class GNNモデルを作成する\n",
    "\n",
    "model.pyにGNNクラスを作成した。\n",
    "以下のようなattributeを作成した。\n",
    "\n",
    "|attribute||\n",
    "|---|---|\n",
    "|aggregate|隣接行列を引数にとり集約された結果を返す initilize=Trueで設定してあるx_vecsを初期化|\n",
    "|get_h_G|隣接行列とTをとり、T(defaultで2)回集約したあとh_Gの特徴ベクトルを返す、initilize=Trueで設定してあるx_vecsを初期化|\n",
    "|affine|隣接行列をとり、重み付き和を返す|"
   ]
  },
  {
   "cell_type": "code",
   "execution_count": 12,
   "metadata": {},
   "outputs": [],
   "source": [
    "import model\n",
    "gnn=model.GNN(D)"
   ]
  },
  {
   "cell_type": "code",
   "execution_count": 13,
   "metadata": {},
   "outputs": [],
   "source": [
    "gnn.theta[\"W\"]=W\n",
    "gnn.theta[\"A\"]=A\n",
    "gnn.theta[\"b\"]=b\n",
    "gnn.x_vecs=x_0"
   ]
  },
  {
   "cell_type": "code",
   "execution_count": 14,
   "metadata": {},
   "outputs": [
    {
     "data": {
      "text/plain": [
       "array([[2., 6., 4., 4.],\n",
       "       [0., 0., 0., 0.],\n",
       "       [0., 0., 0., 0.],\n",
       "       [1., 3., 2., 2.]])"
      ]
     },
     "execution_count": 14,
     "metadata": {},
     "output_type": "execute_result"
    }
   ],
   "source": [
    "gnn.aggregate(adj, initilize=False)"
   ]
  },
  {
   "cell_type": "code",
   "execution_count": 15,
   "metadata": {},
   "outputs": [
    {
     "data": {
      "text/plain": [
       "array([72.,  0.,  0., 36.])"
      ]
     },
     "execution_count": 15,
     "metadata": {},
     "output_type": "execute_result"
    }
   ],
   "source": [
    "gnn.get_h_G(adj, T=2, initilize=False) #T=2の集約の結果。上で計算しているものと一致している。"
   ]
  },
  {
   "cell_type": "code",
   "execution_count": 17,
   "metadata": {},
   "outputs": [
    {
     "data": {
      "text/plain": [
       "array([[0.        , 3.94300006, 0.        , 1.44905743],\n",
       "       [0.4934171 , 0.        , 0.05664633, 0.        ],\n",
       "       [0.43030744, 0.        , 0.        , 0.        ],\n",
       "       [0.        , 1.97150003, 0.        , 0.72452871]])"
      ]
     },
     "execution_count": 17,
     "metadata": {},
     "output_type": "execute_result"
    }
   ],
   "source": [
    "gnn.aggregate(adj) #initilize=Trueでrandom.seedが固定された正規分布に従ったx_vecsに初期化される"
   ]
  },
  {
   "cell_type": "code",
   "execution_count": 18,
   "metadata": {},
   "outputs": [
    {
     "data": {
      "text/plain": [
       "array([[ 0.31678346, -0.4934171 ,  1.21794581,  0.43677076],\n",
       "       [-0.72769267,  0.43030744, -0.68666532, -0.45301801],\n",
       "       [-0.73285921, -0.75362743, -0.83251892,  0.44987187],\n",
       "       [ 1.80752304, -0.48953136,  0.88158874, -0.69834087]])"
      ]
     },
     "execution_count": 18,
     "metadata": {},
     "output_type": "execute_result"
    }
   ],
   "source": [
    "gnn.x_vecs"
   ]
  },
  {
   "cell_type": "code",
   "execution_count": null,
   "metadata": {},
   "outputs": [],
   "source": []
  }
 ],
 "metadata": {
  "kernelspec": {
   "display_name": "Python 3",
   "language": "python",
   "name": "python3"
  },
  "language_info": {
   "codemirror_mode": {
    "name": "ipython",
    "version": 3
   },
   "file_extension": ".py",
   "mimetype": "text/x-python",
   "name": "python",
   "nbconvert_exporter": "python",
   "pygments_lexer": "ipython3",
   "version": "3.5.6"
  }
 },
 "nbformat": 4,
 "nbformat_minor": 2
}
